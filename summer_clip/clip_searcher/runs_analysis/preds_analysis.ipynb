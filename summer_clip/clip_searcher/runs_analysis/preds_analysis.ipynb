{
 "cells": [
  {
   "cell_type": "code",
   "execution_count": 2,
   "metadata": {},
   "outputs": [],
   "source": [
    "import typing as tp\n",
    "import json\n",
    "from pathlib import Path\n",
    "\n",
    "import numpy as np\n",
    "import pandas as pd\n",
    "import seaborn as sns\n",
    "import matplotlib.pyplot as plt"
   ]
  },
  {
   "cell_type": "code",
   "execution_count": 3,
   "metadata": {},
   "outputs": [],
   "source": [
    "outputs_dir = Path('.').resolve().parent.parent.parent / \"outputs\"\n",
    "log_file_path = outputs_dir / \"2022-10-15/21-28-48/image_attention.log\""
   ]
  },
  {
   "cell_type": "code",
   "execution_count": 4,
   "metadata": {},
   "outputs": [],
   "source": [
    "def load_records(log_path: Path) -> tp.List[tp.Dict[str, tp.Any]]:\n",
    "    with open(log_path) as f:\n",
    "        return [json.loads(line.rstrip()) for line in f]"
   ]
  },
  {
   "cell_type": "code",
   "execution_count": 5,
   "metadata": {},
   "outputs": [
    {
     "data": {
      "text/html": [
       "<div>\n",
       "<style scoped>\n",
       "    .dataframe tbody tr th:only-of-type {\n",
       "        vertical-align: middle;\n",
       "    }\n",
       "\n",
       "    .dataframe tbody tr th {\n",
       "        vertical-align: top;\n",
       "    }\n",
       "\n",
       "    .dataframe thead th {\n",
       "        text-align: right;\n",
       "    }\n",
       "</style>\n",
       "<table border=\"1\" class=\"dataframe\">\n",
       "  <thead>\n",
       "    <tr style=\"text-align: right;\">\n",
       "      <th></th>\n",
       "      <th>name</th>\n",
       "      <th>levelname</th>\n",
       "      <th>acc1</th>\n",
       "      <th>acc5</th>\n",
       "      <th>preds_path</th>\n",
       "      <th>type</th>\n",
       "      <th>cache_size</th>\n",
       "      <th>cache_inds_path</th>\n",
       "      <th>cache_strategy._target_</th>\n",
       "      <th>cache_strategy.topk</th>\n",
       "      <th>alpha</th>\n",
       "      <th>cache_value_strategy._target_</th>\n",
       "      <th>cache_weights_strategy._target_</th>\n",
       "      <th>cache_weights_strategy.beta</th>\n",
       "    </tr>\n",
       "  </thead>\n",
       "  <tbody>\n",
       "    <tr>\n",
       "      <th>0</th>\n",
       "      <td>image_attention</td>\n",
       "      <td>INFO</td>\n",
       "      <td>NaN</td>\n",
       "      <td>NaN</td>\n",
       "      <td>NaN</td>\n",
       "      <td>NaN</td>\n",
       "      <td>NaN</td>\n",
       "      <td>NaN</td>\n",
       "      <td>NaN</td>\n",
       "      <td>NaN</td>\n",
       "      <td>NaN</td>\n",
       "      <td>NaN</td>\n",
       "      <td>NaN</td>\n",
       "      <td>NaN</td>\n",
       "    </tr>\n",
       "    <tr>\n",
       "      <th>1</th>\n",
       "      <td>image_attention</td>\n",
       "      <td>INFO</td>\n",
       "      <td>55.627410</td>\n",
       "      <td>89.764955</td>\n",
       "      <td>/home/myurachinskiy/CLIP/summer-clip/outputs/2...</td>\n",
       "      <td>zero_shot</td>\n",
       "      <td>NaN</td>\n",
       "      <td>NaN</td>\n",
       "      <td>NaN</td>\n",
       "      <td>NaN</td>\n",
       "      <td>NaN</td>\n",
       "      <td>NaN</td>\n",
       "      <td>NaN</td>\n",
       "      <td>NaN</td>\n",
       "    </tr>\n",
       "    <tr>\n",
       "      <th>2</th>\n",
       "      <td>image_attention</td>\n",
       "      <td>INFO</td>\n",
       "      <td>69.387755</td>\n",
       "      <td>96.428571</td>\n",
       "      <td>NaN</td>\n",
       "      <td>cache_info</td>\n",
       "      <td>196.0</td>\n",
       "      <td>/home/myurachinskiy/CLIP/summer-clip/outputs/2...</td>\n",
       "      <td>summer_clip.clip_searcher.cache_strategy.TopKS...</td>\n",
       "      <td>1.0</td>\n",
       "      <td>NaN</td>\n",
       "      <td>NaN</td>\n",
       "      <td>NaN</td>\n",
       "      <td>NaN</td>\n",
       "    </tr>\n",
       "    <tr>\n",
       "      <th>3</th>\n",
       "      <td>image_attention</td>\n",
       "      <td>INFO</td>\n",
       "      <td>55.627410</td>\n",
       "      <td>89.764955</td>\n",
       "      <td>/home/myurachinskiy/CLIP/summer-clip/outputs/2...</td>\n",
       "      <td>searcher_result</td>\n",
       "      <td>NaN</td>\n",
       "      <td>NaN</td>\n",
       "      <td>summer_clip.clip_searcher.cache_strategy.TopKS...</td>\n",
       "      <td>1.0</td>\n",
       "      <td>0.0</td>\n",
       "      <td>summer_clip.clip_searcher.cache_value_strategy...</td>\n",
       "      <td>summer_clip.clip_searcher.cache_weights_strate...</td>\n",
       "      <td>0.1</td>\n",
       "    </tr>\n",
       "    <tr>\n",
       "      <th>4</th>\n",
       "      <td>image_attention</td>\n",
       "      <td>INFO</td>\n",
       "      <td>55.627410</td>\n",
       "      <td>89.764955</td>\n",
       "      <td>/home/myurachinskiy/CLIP/summer-clip/outputs/2...</td>\n",
       "      <td>searcher_result</td>\n",
       "      <td>NaN</td>\n",
       "      <td>NaN</td>\n",
       "      <td>summer_clip.clip_searcher.cache_strategy.TopKS...</td>\n",
       "      <td>1.0</td>\n",
       "      <td>0.1</td>\n",
       "      <td>summer_clip.clip_searcher.cache_value_strategy...</td>\n",
       "      <td>summer_clip.clip_searcher.cache_weights_strate...</td>\n",
       "      <td>0.1</td>\n",
       "    </tr>\n",
       "  </tbody>\n",
       "</table>\n",
       "</div>"
      ],
      "text/plain": [
       "              name levelname       acc1       acc5  \\\n",
       "0  image_attention      INFO        NaN        NaN   \n",
       "1  image_attention      INFO  55.627410  89.764955   \n",
       "2  image_attention      INFO  69.387755  96.428571   \n",
       "3  image_attention      INFO  55.627410  89.764955   \n",
       "4  image_attention      INFO  55.627410  89.764955   \n",
       "\n",
       "                                          preds_path             type  \\\n",
       "0                                                NaN              NaN   \n",
       "1  /home/myurachinskiy/CLIP/summer-clip/outputs/2...        zero_shot   \n",
       "2                                                NaN       cache_info   \n",
       "3  /home/myurachinskiy/CLIP/summer-clip/outputs/2...  searcher_result   \n",
       "4  /home/myurachinskiy/CLIP/summer-clip/outputs/2...  searcher_result   \n",
       "\n",
       "   cache_size                                    cache_inds_path  \\\n",
       "0         NaN                                                NaN   \n",
       "1         NaN                                                NaN   \n",
       "2       196.0  /home/myurachinskiy/CLIP/summer-clip/outputs/2...   \n",
       "3         NaN                                                NaN   \n",
       "4         NaN                                                NaN   \n",
       "\n",
       "                             cache_strategy._target_  cache_strategy.topk  \\\n",
       "0                                                NaN                  NaN   \n",
       "1                                                NaN                  NaN   \n",
       "2  summer_clip.clip_searcher.cache_strategy.TopKS...                  1.0   \n",
       "3  summer_clip.clip_searcher.cache_strategy.TopKS...                  1.0   \n",
       "4  summer_clip.clip_searcher.cache_strategy.TopKS...                  1.0   \n",
       "\n",
       "   alpha                      cache_value_strategy._target_  \\\n",
       "0    NaN                                                NaN   \n",
       "1    NaN                                                NaN   \n",
       "2    NaN                                                NaN   \n",
       "3    0.0  summer_clip.clip_searcher.cache_value_strategy...   \n",
       "4    0.1  summer_clip.clip_searcher.cache_value_strategy...   \n",
       "\n",
       "                     cache_weights_strategy._target_  \\\n",
       "0                                                NaN   \n",
       "1                                                NaN   \n",
       "2                                                NaN   \n",
       "3  summer_clip.clip_searcher.cache_weights_strate...   \n",
       "4  summer_clip.clip_searcher.cache_weights_strate...   \n",
       "\n",
       "   cache_weights_strategy.beta  \n",
       "0                          NaN  \n",
       "1                          NaN  \n",
       "2                          NaN  \n",
       "3                          0.1  \n",
       "4                          0.1  "
      ]
     },
     "execution_count": 5,
     "metadata": {},
     "output_type": "execute_result"
    }
   ],
   "source": [
    "files_records = load_records(log_file_path)\n",
    "log_records_df = pd.json_normalize(files_records).drop(columns=['message', 'asctime'])\n",
    "log_records_df.head()"
   ]
  },
  {
   "cell_type": "code",
   "execution_count": 6,
   "metadata": {},
   "outputs": [
    {
     "data": {
      "text/plain": [
       "(8041,)"
      ]
     },
     "execution_count": 6,
     "metadata": {},
     "output_type": "execute_result"
    }
   ],
   "source": [
    "zero_shot_records = log_records_df[log_records_df['type'] == 'zero_shot']\n",
    "assert len(zero_shot_records) == 1\n",
    "\n",
    "zero_shot_preds_path = Path(zero_shot_records.iloc[0]['preds_path'])\n",
    "zero_shot_preds = np.load(zero_shot_preds_path)\n",
    "zero_shot_preds.shape"
   ]
  },
  {
   "cell_type": "code",
   "execution_count": 7,
   "metadata": {},
   "outputs": [
    {
     "data": {
      "text/plain": [
       "(8041,)"
      ]
     },
     "execution_count": 7,
     "metadata": {},
     "output_type": "execute_result"
    }
   ],
   "source": [
    "test_labels_path = zero_shot_preds_path.parent.parent / \"gold_labels\" / \"test_labels.npy\"\n",
    "test_labels = np.load(test_labels_path)\n",
    "test_labels.shape"
   ]
  },
  {
   "cell_type": "code",
   "execution_count": 11,
   "metadata": {},
   "outputs": [
    {
     "data": {
      "text/plain": [
       "(8041,)"
      ]
     },
     "execution_count": 11,
     "metadata": {},
     "output_type": "execute_result"
    }
   ],
   "source": [
    "searcher_results_df = log_records_df[log_records_df['type'] == 'searcher_result']\n",
    "searcher_preds_path = searcher_results_df.sort_values(by='acc1', ascending=False).iloc[0]['preds_path']\n",
    "searcher_preds = np.load(searcher_preds_path)\n",
    "searcher_preds.shape"
   ]
  },
  {
   "cell_type": "code",
   "execution_count": 12,
   "metadata": {},
   "outputs": [],
   "source": [
    "zero_shot_mask = (zero_shot_preds == test_labels)\n",
    "searcher_mask = (searcher_preds == test_labels)"
   ]
  },
  {
   "cell_type": "code",
   "execution_count": 14,
   "metadata": {},
   "outputs": [
    {
     "data": {
      "text/html": [
       "<div>\n",
       "<style scoped>\n",
       "    .dataframe tbody tr th:only-of-type {\n",
       "        vertical-align: middle;\n",
       "    }\n",
       "\n",
       "    .dataframe tbody tr th {\n",
       "        vertical-align: top;\n",
       "    }\n",
       "\n",
       "    .dataframe thead th {\n",
       "        text-align: right;\n",
       "    }\n",
       "</style>\n",
       "<table border=\"1\" class=\"dataframe\">\n",
       "  <thead>\n",
       "    <tr style=\"text-align: right;\">\n",
       "      <th></th>\n",
       "      <th>T</th>\n",
       "      <th>F</th>\n",
       "    </tr>\n",
       "  </thead>\n",
       "  <tbody>\n",
       "    <tr>\n",
       "      <th>T</th>\n",
       "      <td>4135</td>\n",
       "      <td>337</td>\n",
       "    </tr>\n",
       "    <tr>\n",
       "      <th>F</th>\n",
       "      <td>467</td>\n",
       "      <td>3102</td>\n",
       "    </tr>\n",
       "  </tbody>\n",
       "</table>\n",
       "</div>"
      ],
      "text/plain": [
       "      T     F\n",
       "T  4135   337\n",
       "F   467  3102"
      ]
     },
     "execution_count": 14,
     "metadata": {},
     "output_type": "execute_result"
    }
   ],
   "source": [
    "tt = (zero_shot_mask & searcher_mask).sum()\n",
    "tf = (zero_shot_mask & ~searcher_mask).sum()\n",
    "ft = (~zero_shot_mask & searcher_mask).sum()\n",
    "ff = (~zero_shot_mask & ~searcher_mask).sum()\n",
    "\n",
    "pd.DataFrame([[tt, tf], [ft, ff]], columns=['T', 'F'], index=['T', 'F'])"
   ]
  },
  {
   "cell_type": "code",
   "execution_count": 16,
   "metadata": {},
   "outputs": [
    {
     "data": {
      "text/plain": [
       "0.5561497326203209"
      ]
     },
     "execution_count": 16,
     "metadata": {},
     "output_type": "execute_result"
    }
   ],
   "source": [
    "(4135 + 337) / 8041"
   ]
  },
  {
   "cell_type": "code",
   "execution_count": 18,
   "metadata": {},
   "outputs": [
    {
     "data": {
      "text/plain": [
       "(array([   0,   29,   65,  105,  122,  136,  140,  144,  155,  181,  191,\n",
       "         243,  246,  297,  334,  339,  373,  374,  405,  421,  451,  453,\n",
       "         455,  470,  471,  514,  520,  528,  539,  552,  556,  577,  579,\n",
       "         626,  632,  655,  693,  696,  724,  727,  733,  743,  746,  773,\n",
       "         781,  823,  840,  913,  938,  986, 1010, 1017, 1018, 1019, 1041,\n",
       "        1090, 1091, 1097, 1112, 1152, 1158, 1174, 1181, 1192, 1203, 1240,\n",
       "        1272, 1321, 1347, 1353, 1375, 1397, 1422, 1431, 1438, 1439, 1456,\n",
       "        1466, 1472, 1473, 1478, 1488, 1531, 1539, 1545, 1551, 1570, 1574,\n",
       "        1580, 1602, 1628, 1635, 1645, 1650, 1657, 1673, 1680, 1689, 1690,\n",
       "        1696, 1701, 1781, 1785, 1789, 1798, 1836, 1867, 1890, 1924, 1930,\n",
       "        1959, 1984, 2000, 2003, 2012, 2080, 2135, 2174, 2187, 2210, 2212,\n",
       "        2215, 2228, 2231, 2238, 2296, 2367, 2387, 2409, 2418, 2436, 2439,\n",
       "        2468, 2471, 2492, 2505, 2506, 2533, 2540, 2564, 2584, 2591, 2596,\n",
       "        2600, 2619, 2630, 2641, 2642, 2664, 2677, 2688, 2700, 2730, 2745,\n",
       "        2778, 2793, 2799, 2822, 2846, 2849, 2864, 2877, 2887, 2901, 2902,\n",
       "        2981, 3005, 3011, 3054, 3057, 3114, 3120, 3145, 3156, 3164, 3174,\n",
       "        3199, 3207, 3213, 3215, 3244, 3256, 3260, 3261, 3297, 3302, 3342,\n",
       "        3356, 3357, 3364, 3365, 3366, 3380, 3383, 3392, 3397, 3427, 3464,\n",
       "        3471, 3482, 3483, 3492, 3495, 3510, 3515, 3528, 3546, 3562, 3602,\n",
       "        3604, 3608, 3629, 3686, 3767, 3826, 3836, 3854, 3870, 3878, 3899,\n",
       "        3900, 3911, 3937, 3945, 3974, 3981, 4001, 4029, 4038, 4079, 4114,\n",
       "        4140, 4151, 4153, 4176, 4177, 4193, 4208, 4224, 4228, 4230, 4238,\n",
       "        4244, 4267, 4269, 4279, 4288, 4299, 4306, 4324, 4328, 4341, 4355,\n",
       "        4361, 4397, 4406, 4418, 4445, 4464, 4546, 4549, 4574, 4590, 4600,\n",
       "        4602, 4646, 4652, 4678, 4695, 4706, 4730, 4774, 4786, 4804, 4843,\n",
       "        4844, 4846, 4862, 4902, 4904, 4914, 4926, 4945, 4973, 5011, 5019,\n",
       "        5053, 5055, 5079, 5110, 5121, 5122, 5124, 5134, 5144, 5156, 5167,\n",
       "        5219, 5221, 5252, 5254, 5281, 5282, 5366, 5386, 5392, 5400, 5412,\n",
       "        5430, 5434, 5472, 5477, 5488, 5491, 5505, 5527, 5551, 5596, 5597,\n",
       "        5598, 5600, 5607, 5632, 5643, 5657, 5667, 5681, 5707, 5715, 5763,\n",
       "        5768, 5797, 5835, 5842, 5844, 5872, 5876, 5928, 5932, 5958, 5964,\n",
       "        5966, 5988, 6000, 6005, 6010, 6041, 6050, 6054, 6085, 6115, 6126,\n",
       "        6161, 6162, 6173, 6178, 6185, 6186, 6201, 6208, 6210, 6216, 6225,\n",
       "        6246, 6250, 6283, 6293, 6327, 6340, 6365, 6378, 6388, 6394, 6408,\n",
       "        6415, 6417, 6430, 6435, 6458, 6488, 6490, 6491, 6495, 6498, 6528,\n",
       "        6569, 6601, 6615, 6626, 6632, 6649, 6674, 6683, 6703, 6725, 6726,\n",
       "        6728, 6732, 6741, 6743, 6769, 6780, 6794, 6798, 6802, 6803, 6814,\n",
       "        6817, 6856, 6857, 6865, 6870, 6901, 6928, 6946, 6962, 6991, 7000,\n",
       "        7024, 7029, 7057, 7089, 7092, 7138, 7158, 7200, 7205, 7235, 7240,\n",
       "        7248, 7262, 7277, 7280, 7281, 7298, 7314, 7335, 7352, 7408, 7419,\n",
       "        7423, 7458, 7483, 7492, 7513, 7565, 7624, 7644, 7694, 7698, 7704,\n",
       "        7722, 7733, 7796, 7808, 7818, 7838, 7859, 7871, 7873, 7877, 7887,\n",
       "        7892, 7917, 7928, 7988, 8013]),)"
      ]
     },
     "execution_count": 18,
     "metadata": {},
     "output_type": "execute_result"
    }
   ],
   "source": [
    "(~zero_shot_mask & searcher_mask).nonzero()"
   ]
  },
  {
   "cell_type": "code",
   "execution_count": null,
   "metadata": {},
   "outputs": [],
   "source": []
  }
 ],
 "metadata": {
  "kernelspec": {
   "display_name": "Python 3.8.13 ('tip_adapter')",
   "language": "python",
   "name": "python3"
  },
  "language_info": {
   "codemirror_mode": {
    "name": "ipython",
    "version": 3
   },
   "file_extension": ".py",
   "mimetype": "text/x-python",
   "name": "python",
   "nbconvert_exporter": "python",
   "pygments_lexer": "ipython3",
   "version": "3.8.13"
  },
  "orig_nbformat": 4,
  "vscode": {
   "interpreter": {
    "hash": "5c1d4a24dca2123754c58b8a962e3eb5748313bfc70052bd9cca7d98b3544b81"
   }
  }
 },
 "nbformat": 4,
 "nbformat_minor": 2
}
