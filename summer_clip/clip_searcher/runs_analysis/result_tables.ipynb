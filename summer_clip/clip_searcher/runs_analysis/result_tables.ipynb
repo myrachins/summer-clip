{
 "cells": [
  {
   "cell_type": "code",
   "execution_count": 1,
   "metadata": {},
   "outputs": [],
   "source": [
    "import typing as tp\n",
    "import json\n",
    "from pathlib import Path\n",
    "\n",
    "import numpy as np\n",
    "import pandas as pd\n",
    "import seaborn as sns"
   ]
  },
  {
   "cell_type": "code",
   "execution_count": 2,
   "metadata": {},
   "outputs": [],
   "source": [
    "outputs_dir = Path('.').resolve().parent.parent.parent / \"outputs\"\n",
    "log_file_path = outputs_dir / \"2022-09-08/18-45-08/image_attention.log\""
   ]
  },
  {
   "cell_type": "code",
   "execution_count": 3,
   "metadata": {},
   "outputs": [],
   "source": [
    "def load_records(log_path: Path) -> tp.List[tp.Dict[str, tp.Any]]:\n",
    "    with open(log_path) as f:\n",
    "        return [json.loads(line.rstrip()) for line in f]"
   ]
  },
  {
   "cell_type": "code",
   "execution_count": 4,
   "metadata": {},
   "outputs": [
    {
     "data": {
      "text/html": [
       "<div>\n",
       "<style scoped>\n",
       "    .dataframe tbody tr th:only-of-type {\n",
       "        vertical-align: middle;\n",
       "    }\n",
       "\n",
       "    .dataframe tbody tr th {\n",
       "        vertical-align: top;\n",
       "    }\n",
       "\n",
       "    .dataframe thead th {\n",
       "        text-align: right;\n",
       "    }\n",
       "</style>\n",
       "<table border=\"1\" class=\"dataframe\">\n",
       "  <thead>\n",
       "    <tr style=\"text-align: right;\">\n",
       "      <th></th>\n",
       "      <th>name</th>\n",
       "      <th>levelname</th>\n",
       "      <th>alpha</th>\n",
       "      <th>acc1</th>\n",
       "      <th>acc5</th>\n",
       "      <th>cache_strategy._target_</th>\n",
       "      <th>cache_strategy.topk</th>\n",
       "      <th>cache_strategy.cache_dataset._target_</th>\n",
       "      <th>cache_strategy.cache_dataset.dataset</th>\n",
       "      <th>cache_strategy.cache_dataset.split</th>\n",
       "      <th>cache_strategy.cache_dataset.root_path</th>\n",
       "      <th>cache_strategy.cache_dataset.shots</th>\n",
       "      <th>cache_strategy.cache_dataset.is_train</th>\n",
       "      <th>cache_strategy.cache_dataset.use_custom_preprocess</th>\n",
       "      <th>cache_value_strategy._target_</th>\n",
       "      <th>cache_weights_strategy._target_</th>\n",
       "      <th>cache_weights_strategy.beta</th>\n",
       "    </tr>\n",
       "  </thead>\n",
       "  <tbody>\n",
       "    <tr>\n",
       "      <th>0</th>\n",
       "      <td>image_attention</td>\n",
       "      <td>INFO</td>\n",
       "      <td>3</td>\n",
       "      <td>57.766447</td>\n",
       "      <td>90.585748</td>\n",
       "      <td>summer_clip.clip_searcher.cache_strategy.PerGo...</td>\n",
       "      <td>2</td>\n",
       "      <td>summer_clip.utils.datasets.TipAdapterDataset</td>\n",
       "      <td>stanford_cars</td>\n",
       "      <td>train</td>\n",
       "      <td>/home/myurachinskiy/.cache</td>\n",
       "      <td>16</td>\n",
       "      <td>True</td>\n",
       "      <td>True</td>\n",
       "      <td>summer_clip.clip_searcher.cache_value_strategy...</td>\n",
       "      <td>summer_clip.clip_searcher.cache_weights_strate...</td>\n",
       "      <td>1</td>\n",
       "    </tr>\n",
       "    <tr>\n",
       "      <th>1</th>\n",
       "      <td>image_attention</td>\n",
       "      <td>INFO</td>\n",
       "      <td>3</td>\n",
       "      <td>59.159309</td>\n",
       "      <td>91.170252</td>\n",
       "      <td>summer_clip.clip_searcher.cache_strategy.PerGo...</td>\n",
       "      <td>4</td>\n",
       "      <td>summer_clip.utils.datasets.TipAdapterDataset</td>\n",
       "      <td>stanford_cars</td>\n",
       "      <td>train</td>\n",
       "      <td>/home/myurachinskiy/.cache</td>\n",
       "      <td>16</td>\n",
       "      <td>True</td>\n",
       "      <td>True</td>\n",
       "      <td>summer_clip.clip_searcher.cache_value_strategy...</td>\n",
       "      <td>summer_clip.clip_searcher.cache_weights_strate...</td>\n",
       "      <td>1</td>\n",
       "    </tr>\n",
       "    <tr>\n",
       "      <th>2</th>\n",
       "      <td>image_attention</td>\n",
       "      <td>INFO</td>\n",
       "      <td>3</td>\n",
       "      <td>61.571944</td>\n",
       "      <td>91.667703</td>\n",
       "      <td>summer_clip.clip_searcher.cache_strategy.PerGo...</td>\n",
       "      <td>8</td>\n",
       "      <td>summer_clip.utils.datasets.TipAdapterDataset</td>\n",
       "      <td>stanford_cars</td>\n",
       "      <td>train</td>\n",
       "      <td>/home/myurachinskiy/.cache</td>\n",
       "      <td>16</td>\n",
       "      <td>True</td>\n",
       "      <td>True</td>\n",
       "      <td>summer_clip.clip_searcher.cache_value_strategy...</td>\n",
       "      <td>summer_clip.clip_searcher.cache_weights_strate...</td>\n",
       "      <td>1</td>\n",
       "    </tr>\n",
       "    <tr>\n",
       "      <th>3</th>\n",
       "      <td>image_attention</td>\n",
       "      <td>INFO</td>\n",
       "      <td>3</td>\n",
       "      <td>63.922398</td>\n",
       "      <td>92.575550</td>\n",
       "      <td>summer_clip.clip_searcher.cache_strategy.PerGo...</td>\n",
       "      <td>16</td>\n",
       "      <td>summer_clip.utils.datasets.TipAdapterDataset</td>\n",
       "      <td>stanford_cars</td>\n",
       "      <td>train</td>\n",
       "      <td>/home/myurachinskiy/.cache</td>\n",
       "      <td>16</td>\n",
       "      <td>True</td>\n",
       "      <td>True</td>\n",
       "      <td>summer_clip.clip_searcher.cache_value_strategy...</td>\n",
       "      <td>summer_clip.clip_searcher.cache_weights_strate...</td>\n",
       "      <td>1</td>\n",
       "    </tr>\n",
       "  </tbody>\n",
       "</table>\n",
       "</div>"
      ],
      "text/plain": [
       "              name levelname  alpha       acc1       acc5  \\\n",
       "0  image_attention      INFO      3  57.766447  90.585748   \n",
       "1  image_attention      INFO      3  59.159309  91.170252   \n",
       "2  image_attention      INFO      3  61.571944  91.667703   \n",
       "3  image_attention      INFO      3  63.922398  92.575550   \n",
       "\n",
       "                             cache_strategy._target_  cache_strategy.topk  \\\n",
       "0  summer_clip.clip_searcher.cache_strategy.PerGo...                    2   \n",
       "1  summer_clip.clip_searcher.cache_strategy.PerGo...                    4   \n",
       "2  summer_clip.clip_searcher.cache_strategy.PerGo...                    8   \n",
       "3  summer_clip.clip_searcher.cache_strategy.PerGo...                   16   \n",
       "\n",
       "          cache_strategy.cache_dataset._target_  \\\n",
       "0  summer_clip.utils.datasets.TipAdapterDataset   \n",
       "1  summer_clip.utils.datasets.TipAdapterDataset   \n",
       "2  summer_clip.utils.datasets.TipAdapterDataset   \n",
       "3  summer_clip.utils.datasets.TipAdapterDataset   \n",
       "\n",
       "  cache_strategy.cache_dataset.dataset cache_strategy.cache_dataset.split  \\\n",
       "0                        stanford_cars                              train   \n",
       "1                        stanford_cars                              train   \n",
       "2                        stanford_cars                              train   \n",
       "3                        stanford_cars                              train   \n",
       "\n",
       "  cache_strategy.cache_dataset.root_path  cache_strategy.cache_dataset.shots  \\\n",
       "0             /home/myurachinskiy/.cache                                  16   \n",
       "1             /home/myurachinskiy/.cache                                  16   \n",
       "2             /home/myurachinskiy/.cache                                  16   \n",
       "3             /home/myurachinskiy/.cache                                  16   \n",
       "\n",
       "   cache_strategy.cache_dataset.is_train  \\\n",
       "0                                   True   \n",
       "1                                   True   \n",
       "2                                   True   \n",
       "3                                   True   \n",
       "\n",
       "   cache_strategy.cache_dataset.use_custom_preprocess  \\\n",
       "0                                               True    \n",
       "1                                               True    \n",
       "2                                               True    \n",
       "3                                               True    \n",
       "\n",
       "                       cache_value_strategy._target_  \\\n",
       "0  summer_clip.clip_searcher.cache_value_strategy...   \n",
       "1  summer_clip.clip_searcher.cache_value_strategy...   \n",
       "2  summer_clip.clip_searcher.cache_value_strategy...   \n",
       "3  summer_clip.clip_searcher.cache_value_strategy...   \n",
       "\n",
       "                     cache_weights_strategy._target_  \\\n",
       "0  summer_clip.clip_searcher.cache_weights_strate...   \n",
       "1  summer_clip.clip_searcher.cache_weights_strate...   \n",
       "2  summer_clip.clip_searcher.cache_weights_strate...   \n",
       "3  summer_clip.clip_searcher.cache_weights_strate...   \n",
       "\n",
       "   cache_weights_strategy.beta  \n",
       "0                            1  \n",
       "1                            1  \n",
       "2                            1  \n",
       "3                            1  "
      ]
     },
     "execution_count": 4,
     "metadata": {},
     "output_type": "execute_result"
    }
   ],
   "source": [
    "log_records = load_records(log_file_path)\n",
    "log_records = [record for record in log_records if record['message'] is None]\n",
    "\n",
    "log_records_df = pd.json_normalize(log_records).drop(columns=['message', 'asctime'])\n",
    "log_records_df.head()"
   ]
  },
  {
   "cell_type": "code",
   "execution_count": 5,
   "metadata": {},
   "outputs": [
    {
     "name": "stdout",
     "output_type": "stream",
     "text": [
      "# unique groups: 1\n"
     ]
    }
   ],
   "source": [
    "visible_params = {'alpha', 'acc1', 'acc5', 'cache_strategy.topk'}\n",
    "static_columns = list(set(log_records_df.columns) - visible_params)\n",
    "groups = list(log_records_df.groupby(static_columns))\n",
    "print('# unique groups:', len(groups))"
   ]
  },
  {
   "cell_type": "code",
   "execution_count": 6,
   "metadata": {},
   "outputs": [
    {
     "data": {
      "text/plain": [
       "{'cache_strategy.cache_dataset.is_train': True,\n",
       " 'cache_value_strategy._target_': 'summer_clip.clip_searcher.cache_value_strategy.HardCacheStrategy',\n",
       " 'name': 'image_attention',\n",
       " 'cache_strategy.cache_dataset.use_custom_preprocess': True,\n",
       " 'cache_strategy.cache_dataset.root_path': '/home/myurachinskiy/.cache',\n",
       " 'cache_weights_strategy._target_': 'summer_clip.clip_searcher.cache_weights_strategy.TipAdapterWeightsStrategy',\n",
       " 'cache_strategy._target_': 'summer_clip.clip_searcher.cache_strategy.PerGoldClassRandomSampleStrategy',\n",
       " 'cache_strategy.cache_dataset.shots': 16,\n",
       " 'levelname': 'INFO',\n",
       " 'cache_strategy.cache_dataset._target_': 'summer_clip.utils.datasets.TipAdapterDataset',\n",
       " 'cache_weights_strategy.beta': 1,\n",
       " 'cache_strategy.cache_dataset.dataset': 'stanford_cars',\n",
       " 'cache_strategy.cache_dataset.split': 'train'}"
      ]
     },
     "execution_count": 6,
     "metadata": {},
     "output_type": "execute_result"
    }
   ],
   "source": [
    "static_values, part_df = groups[0]\n",
    "static_items = dict(zip(static_columns, static_values))\n",
    "static_items  # type: ignore"
   ]
  },
  {
   "cell_type": "code",
   "execution_count": 8,
   "metadata": {},
   "outputs": [
    {
     "data": {
      "text/plain": [
       "<seaborn.axisgrid.FacetGrid at 0x7fee78c22a00>"
      ]
     },
     "execution_count": 8,
     "metadata": {},
     "output_type": "execute_result"
    },
    {
     "data": {
      "image/png": "[encoded data removed]",
      "text/plain": [
       "<Figure size 500x500 with 1 Axes>"
      ]
     },
     "metadata": {},
     "output_type": "display_data"
    }
   ],
   "source": [
    "sns.catplot(data=part_df, x='cache_strategy.topk', y='acc1', col='alpha', kind='bar')"
   ]
  },
  {
   "cell_type": "code",
   "execution_count": null,
   "metadata": {},
   "outputs": [],
   "source": []
  }
 ],
 "metadata": {
  "kernelspec": {
   "display_name": "Python 3.8.13 ('tip_adapter')",
   "language": "python",
   "name": "python3"
  },
  "language_info": {
   "codemirror_mode": {
    "name": "ipython",
    "version": 3
   },
   "file_extension": ".py",
   "mimetype": "text/x-python",
   "name": "python",
   "nbconvert_exporter": "python",
   "pygments_lexer": "ipython3",
   "version": "3.8.13"
  },
  "orig_nbformat": 4,
  "vscode": {
   "interpreter": {
    "hash": "5c1d4a24dca2123754c58b8a962e3eb5748313bfc70052bd9cca7d98b3544b81"
   }
  }
 },
 "nbformat": 4,
 "nbformat_minor": 2
}
